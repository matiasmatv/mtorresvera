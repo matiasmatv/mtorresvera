{
  "nbformat": 4,
  "nbformat_minor": 0,
  "metadata": {
    "colab": {
      "provenance": []
    },
    "kernelspec": {
      "name": "python3",
      "display_name": "Python 3"
    },
    "language_info": {
      "name": "python"
    }
  },
  "cells": [
    {
      "cell_type": "code",
      "execution_count": null,
      "metadata": {
        "id": "H3yJ_SR8BPlW"
      },
      "outputs": [],
      "source": [
        "for x in range(100):\n",
        "    print (x+1)\n",
        "\n",
        ""
      ]
    },
    {
      "cell_type": "code",
      "source": [
        "for x in range(100):\n",
        "  if (x+1)%3==0:\n",
        "    print (x+1)\n",
        ""
      ],
      "metadata": {
        "id": "_In35jzXI_O6"
      },
      "execution_count": null,
      "outputs": []
    },
    {
      "cell_type": "code",
      "source": [
        "numero_1=int(input(\"ingrese un número\"))\n",
        "numero_2=5\n",
        "suma=numero_1 + numero_2\n",
        "Resultado=\"\"\n",
        "\n",
        "if (suma<100):\n",
        "  resultado=\"menor a 100\"\n",
        "elif (suma>=100 and suma<150):\n",
        "  resultado=\"mayor a 100\"\n",
        "elif (suma>150):\n",
        "  Resultado=\"mayor a 150\"\n",
        "\n",
        "print (resultado)"
      ],
      "metadata": {
        "colab": {
          "base_uri": "https://localhost:8080/"
        },
        "id": "wM5o5dXwJgkw",
        "outputId": "40b50034-6491-4b4b-845f-25042038541a"
      },
      "execution_count": 6,
      "outputs": [
        {
          "output_type": "stream",
          "name": "stdout",
          "text": [
            "ingrese un número2\n",
            "menor a 100\n"
          ]
        }
      ]
    },
    {
      "cell_type": "code",
      "source": [
        "# inputs\n",
        "edad = int(input(\"Ingresa tu edad: \"))\n",
        "gusta_programar = input(\"¿Te gusta programar? (responde solo con si, o no.): \")\n",
        "\n",
        "# Verificar\n",
        "if edad >= 18 and gusta_programar == \"si\":\n",
        "    promedio = \"Eres mayor de edad y te gusta programar\"\n",
        "elif edad >= 18 and gusta_programar == \"no\":\n",
        "    promedio = \"Eres mayor de edad pero no te gusta programar\"\n",
        "elif edad < 18 and gusta_programar == \"si\":\n",
        "    promedio = \"No eres mayor de edad pero te gusta programar\"\n",
        "else:\n",
        "    promedio = \"No eres mayor de edad y no te gusta programar\"\n",
        "\n",
        "# Imprimir\n",
        "print(promedio)"
      ],
      "metadata": {
        "colab": {
          "base_uri": "https://localhost:8080/"
        },
        "id": "fl75RaMJOjAM",
        "outputId": "b8746a5e-e054-4d03-87ab-07a8ebce77d4"
      },
      "execution_count": 11,
      "outputs": [
        {
          "output_type": "stream",
          "name": "stdout",
          "text": [
            "Ingresa tu edad: 21\n",
            "¿Te gusta programar? (responde solo con si, o no.): si\n",
            "Eres mayor de edad y te gusta programar\n"
          ]
        }
      ]
    }
  ]
}